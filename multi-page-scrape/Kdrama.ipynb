{
  "cells": [
    {
      "cell_type": "code",
      "execution_count": 1,
      "metadata": {
        "colab": {
          "base_uri": "https://localhost:8080/"
        },
        "id": "LFtqkpPq9Ymj",
        "outputId": "f99c52da-a3f7-443a-b4af-0467bb938ac6"
      },
      "outputs": [
        {
          "name": "stdout",
          "output_type": "stream",
          "text": [
            "Looking in indexes: https://pypi.org/simple, https://us-python.pkg.dev/colab-wheels/public/simple/\n",
            "Collecting selenium\n",
            "  Downloading selenium-4.3.0-py3-none-any.whl (981 kB)\n",
            "\u001b[K     |████████████████████████████████| 981 kB 30.3 MB/s \n",
            "\u001b[?25hCollecting trio-websocket~=0.9\n",
            "  Downloading trio_websocket-0.9.2-py3-none-any.whl (16 kB)\n",
            "Collecting urllib3[secure,socks]~=1.26\n",
            "  Downloading urllib3-1.26.10-py2.py3-none-any.whl (139 kB)\n",
            "\u001b[K     |████████████████████████████████| 139 kB 55.8 MB/s \n",
            "\u001b[?25hCollecting trio~=0.17\n",
            "  Downloading trio-0.21.0-py3-none-any.whl (358 kB)\n",
            "\u001b[K     |████████████████████████████████| 358 kB 57.7 MB/s \n",
            "\u001b[?25hCollecting outcome\n",
            "  Downloading outcome-1.2.0-py2.py3-none-any.whl (9.7 kB)\n",
            "Requirement already satisfied: sortedcontainers in /usr/local/lib/python3.7/dist-packages (from trio~=0.17->selenium) (2.4.0)\n",
            "Collecting async-generator>=1.9\n",
            "  Downloading async_generator-1.10-py3-none-any.whl (18 kB)\n",
            "Collecting sniffio\n",
            "  Downloading sniffio-1.2.0-py3-none-any.whl (10 kB)\n",
            "Requirement already satisfied: attrs>=19.2.0 in /usr/local/lib/python3.7/dist-packages (from trio~=0.17->selenium) (21.4.0)\n",
            "Requirement already satisfied: idna in /usr/local/lib/python3.7/dist-packages (from trio~=0.17->selenium) (2.10)\n",
            "Collecting wsproto>=0.14\n",
            "  Downloading wsproto-1.1.0-py3-none-any.whl (24 kB)\n",
            "Collecting cryptography>=1.3.4\n",
            "  Downloading cryptography-37.0.4-cp36-abi3-manylinux_2_24_x86_64.whl (4.1 MB)\n",
            "\u001b[K     |████████████████████████████████| 4.1 MB 48.2 MB/s \n",
            "\u001b[?25hCollecting pyOpenSSL>=0.14\n",
            "  Downloading pyOpenSSL-22.0.0-py2.py3-none-any.whl (55 kB)\n",
            "\u001b[K     |████████████████████████████████| 55 kB 4.6 MB/s \n",
            "\u001b[?25hRequirement already satisfied: certifi in /usr/local/lib/python3.7/dist-packages (from urllib3[secure,socks]~=1.26->selenium) (2022.6.15)\n",
            "Requirement already satisfied: PySocks!=1.5.7,<2.0,>=1.5.6 in /usr/local/lib/python3.7/dist-packages (from urllib3[secure,socks]~=1.26->selenium) (1.7.1)\n",
            "Requirement already satisfied: cffi>=1.12 in /usr/local/lib/python3.7/dist-packages (from cryptography>=1.3.4->urllib3[secure,socks]~=1.26->selenium) (1.15.0)\n",
            "Requirement already satisfied: pycparser in /usr/local/lib/python3.7/dist-packages (from cffi>=1.12->cryptography>=1.3.4->urllib3[secure,socks]~=1.26->selenium) (2.21)\n",
            "Collecting h11<1,>=0.9.0\n",
            "  Downloading h11-0.13.0-py3-none-any.whl (58 kB)\n",
            "\u001b[K     |████████████████████████████████| 58 kB 4.7 MB/s \n",
            "\u001b[?25hRequirement already satisfied: typing-extensions in /usr/local/lib/python3.7/dist-packages (from h11<1,>=0.9.0->wsproto>=0.14->trio-websocket~=0.9->selenium) (4.1.1)\n",
            "Installing collected packages: sniffio, outcome, h11, cryptography, async-generator, wsproto, urllib3, trio, pyOpenSSL, trio-websocket, selenium\n",
            "  Attempting uninstall: urllib3\n",
            "    Found existing installation: urllib3 1.24.3\n",
            "    Uninstalling urllib3-1.24.3:\n",
            "      Successfully uninstalled urllib3-1.24.3\n",
            "\u001b[31mERROR: pip's dependency resolver does not currently take into account all the packages that are installed. This behaviour is the source of the following dependency conflicts.\n",
            "requests 2.23.0 requires urllib3!=1.25.0,!=1.25.1,<1.26,>=1.21.1, but you have urllib3 1.26.10 which is incompatible.\n",
            "datascience 0.10.6 requires folium==0.2.1, but you have folium 0.8.3 which is incompatible.\u001b[0m\n",
            "Successfully installed async-generator-1.10 cryptography-37.0.4 h11-0.13.0 outcome-1.2.0 pyOpenSSL-22.0.0 selenium-4.3.0 sniffio-1.2.0 trio-0.21.0 trio-websocket-0.9.2 urllib3-1.26.10 wsproto-1.1.0\n",
            "Get:1 http://security.ubuntu.com/ubuntu bionic-security InRelease [88.7 kB]\n",
            "Get:2 https://cloud.r-project.org/bin/linux/ubuntu bionic-cran40/ InRelease [3,626 B]\n",
            "Hit:3 https://developer.download.nvidia.com/compute/cuda/repos/ubuntu1804/x86_64  InRelease\n",
            "Get:4 http://ppa.launchpad.net/c2d4u.team/c2d4u4.0+/ubuntu bionic InRelease [15.9 kB]\n",
            "Hit:5 http://archive.ubuntu.com/ubuntu bionic InRelease\n",
            "Ign:6 https://developer.download.nvidia.com/compute/machine-learning/repos/ubuntu1804/x86_64  InRelease\n",
            "Get:7 http://archive.ubuntu.com/ubuntu bionic-updates InRelease [88.7 kB]\n",
            "Hit:8 https://developer.download.nvidia.com/compute/machine-learning/repos/ubuntu1804/x86_64  Release\n",
            "Hit:9 http://ppa.launchpad.net/cran/libgit2/ubuntu bionic InRelease\n",
            "Get:10 http://archive.ubuntu.com/ubuntu bionic-backports InRelease [74.6 kB]\n",
            "Hit:11 http://ppa.launchpad.net/deadsnakes/ppa/ubuntu bionic InRelease\n",
            "Get:12 http://security.ubuntu.com/ubuntu bionic-security/universe amd64 Packages [1,521 kB]\n",
            "Hit:13 http://ppa.launchpad.net/graphics-drivers/ppa/ubuntu bionic InRelease\n",
            "Get:14 http://security.ubuntu.com/ubuntu bionic-security/main amd64 Packages [2,871 kB]\n",
            "Get:15 http://ppa.launchpad.net/c2d4u.team/c2d4u4.0+/ubuntu bionic/main Sources [2,075 kB]\n",
            "Get:17 http://archive.ubuntu.com/ubuntu bionic-updates/universe amd64 Packages [2,298 kB]\n",
            "Get:18 http://ppa.launchpad.net/c2d4u.team/c2d4u4.0+/ubuntu bionic/main amd64 Packages [1,063 kB]\n",
            "Get:19 http://archive.ubuntu.com/ubuntu bionic-updates/main amd64 Packages [3,302 kB]\n",
            "Fetched 13.4 MB in 3s (4,180 kB/s)\n",
            "Reading package lists... Done\n",
            "Reading package lists... Done\n",
            "Building dependency tree       \n",
            "Reading state information... Done\n",
            "The following package was automatically installed and is no longer required:\n",
            "  libnvidia-common-460\n",
            "Use 'apt autoremove' to remove it.\n",
            "The following additional packages will be installed:\n",
            "  chromium-browser chromium-browser-l10n chromium-codecs-ffmpeg-extra\n",
            "Suggested packages:\n",
            "  webaccounts-chromium-extension unity-chromium-extension\n",
            "The following NEW packages will be installed:\n",
            "  chromium-browser chromium-browser-l10n chromium-chromedriver\n",
            "  chromium-codecs-ffmpeg-extra\n",
            "0 upgraded, 4 newly installed, 0 to remove and 66 not upgraded.\n",
            "Need to get 89.8 MB of archives.\n",
            "After this operation, 302 MB of additional disk space will be used.\n",
            "Get:1 http://archive.ubuntu.com/ubuntu bionic-updates/universe amd64 chromium-codecs-ffmpeg-extra amd64 101.0.4951.64-0ubuntu0.18.04.1 [1,142 kB]\n",
            "Get:2 http://archive.ubuntu.com/ubuntu bionic-updates/universe amd64 chromium-browser amd64 101.0.4951.64-0ubuntu0.18.04.1 [78.5 MB]\n",
            "Get:3 http://archive.ubuntu.com/ubuntu bionic-updates/universe amd64 chromium-browser-l10n all 101.0.4951.64-0ubuntu0.18.04.1 [4,980 kB]\n",
            "Get:4 http://archive.ubuntu.com/ubuntu bionic-updates/universe amd64 chromium-chromedriver amd64 101.0.4951.64-0ubuntu0.18.04.1 [5,153 kB]\n",
            "Fetched 89.8 MB in 3s (28.2 MB/s)\n",
            "Selecting previously unselected package chromium-codecs-ffmpeg-extra.\n",
            "(Reading database ... 155639 files and directories currently installed.)\n",
            "Preparing to unpack .../chromium-codecs-ffmpeg-extra_101.0.4951.64-0ubuntu0.18.04.1_amd64.deb ...\n",
            "Unpacking chromium-codecs-ffmpeg-extra (101.0.4951.64-0ubuntu0.18.04.1) ...\n",
            "Selecting previously unselected package chromium-browser.\n",
            "Preparing to unpack .../chromium-browser_101.0.4951.64-0ubuntu0.18.04.1_amd64.deb ...\n",
            "Unpacking chromium-browser (101.0.4951.64-0ubuntu0.18.04.1) ...\n",
            "Selecting previously unselected package chromium-browser-l10n.\n",
            "Preparing to unpack .../chromium-browser-l10n_101.0.4951.64-0ubuntu0.18.04.1_all.deb ...\n",
            "Unpacking chromium-browser-l10n (101.0.4951.64-0ubuntu0.18.04.1) ...\n",
            "Selecting previously unselected package chromium-chromedriver.\n",
            "Preparing to unpack .../chromium-chromedriver_101.0.4951.64-0ubuntu0.18.04.1_amd64.deb ...\n",
            "Unpacking chromium-chromedriver (101.0.4951.64-0ubuntu0.18.04.1) ...\n",
            "Setting up chromium-codecs-ffmpeg-extra (101.0.4951.64-0ubuntu0.18.04.1) ...\n",
            "Setting up chromium-browser (101.0.4951.64-0ubuntu0.18.04.1) ...\n",
            "update-alternatives: using /usr/bin/chromium-browser to provide /usr/bin/x-www-browser (x-www-browser) in auto mode\n",
            "update-alternatives: using /usr/bin/chromium-browser to provide /usr/bin/gnome-www-browser (gnome-www-browser) in auto mode\n",
            "Setting up chromium-chromedriver (101.0.4951.64-0ubuntu0.18.04.1) ...\n",
            "Setting up chromium-browser-l10n (101.0.4951.64-0ubuntu0.18.04.1) ...\n",
            "Processing triggers for man-db (2.8.3-2ubuntu0.1) ...\n",
            "Processing triggers for hicolor-icon-theme (0.17-2) ...\n",
            "Processing triggers for mime-support (3.60ubuntu1) ...\n",
            "Processing triggers for libc-bin (2.27-3ubuntu1.3) ...\n",
            "/sbin/ldconfig.real: /usr/local/lib/python3.7/dist-packages/ideep4py/lib/libmkldnn.so.0 is not a symbolic link\n",
            "\n"
          ]
        },
        {
          "name": "stderr",
          "output_type": "stream",
          "text": [
            "/usr/local/lib/python3.7/dist-packages/ipykernel_launcher.py:20: DeprecationWarning: use options instead of chrome_options\n"
          ]
        }
      ],
      "source": [
        "# Install the package.\n",
        "%pip install selenium\n",
        "\n",
        "\n",
        "# Import the required libraries.\n",
        "from selenium import webdriver\n",
        "from selenium.webdriver.common.keys import Keys\n",
        "from selenium.webdriver.common.by import By\n",
        "\n",
        "import pandas as pd\n",
        "\n",
        "# Install the chrome web driver from selenium. \n",
        "!apt-get update \n",
        "!apt install chromium-chromedriver\n",
        "\n",
        "chrome_options = webdriver.ChromeOptions()\n",
        "chrome_options.add_argument('--headless')\n",
        "chrome_options.add_argument('--no-sandbox')\n",
        "chrome_options.add_argument('--disable-dev-shm-usage')\n",
        "driver = webdriver.Chrome('chromedriver', chrome_options = chrome_options)"
      ]
    },
    {
      "cell_type": "code",
      "execution_count": 2,
      "metadata": {
        "id": "d9UEB6AM98Uw"
      },
      "outputs": [],
      "source": [
        "# Navigate to main page\n",
        "driver.get('https://butchixanh.com/')\n",
        "page = 1"
      ]
    },
    {
      "cell_type": "code",
      "execution_count": 8,
      "metadata": {
        "colab": {
          "base_uri": "https://localhost:8080/"
        },
        "id": "8TCB-rK7_Zk3",
        "outputId": "f808e02c-e3c6-476c-8292-a4db22102957"
      },
      "outputs": [
        {
          "name": "stdout",
          "output_type": "stream",
          "text": [
            "['The Witch: Part 2. The Other One', 'Diary Of A Night Watchman', 'Cleaning Up', 'Alchemy of Souls', 'The Witch Is Alive', 'It’s Beautiful Now', 'Why Her?', 'Doctor Lawyer', 'Ultimate Weapon Alice', 'Yumi’s Cells 2', 'Anna', 'Jinxed at First', 'Eve', 'Insider', 'Extraordinary Attorney Woo', 'Dear M', 'Nokdu Flower', 'Feel Good To Die', 'The Story of the First King’s Four Gods', 'Link: Eat Love Kill']\n"
          ]
        }
      ],
      "source": [
        "# Get elements from HTML\n",
        "raw_titles = driver.find_elements(By.XPATH, \"(//div[@class='ptam-block-post-grid-text']/h6[@class='ptam-block-post-grid-title']/a[@class='local-link'])\")\n",
        "# Copy elements into list\n",
        "movie_titles= []\n",
        "for title in raw_titles:\n",
        "  movie_titles.append(title.text)\n",
        "\n",
        "print(movie_titles)"
      ]
    },
    {
      "cell_type": "code",
      "execution_count": 4,
      "metadata": {
        "colab": {
          "base_uri": "https://localhost:8080/"
        },
        "id": "TSmbC3oB_caC",
        "outputId": "d3428ae4-9f07-4a64-8457-735a3b62f03a"
      },
      "outputs": [
        {
          "name": "stdout",
          "output_type": "stream",
          "text": [
            "['JULY 9, 2022', 'JULY 11, 2022', 'JULY 10, 2022', 'JULY 9, 2022', 'JULY 9, 2022', 'JULY 9, 2022', 'JULY 8, 2022', 'JULY 8, 2022', 'JULY 8, 2022', 'JULY 8, 2022', 'JULY 8, 2022', 'JULY 7, 2022', 'JULY 7, 2022', 'JULY 7, 2022', 'JULY 7, 2022', 'JULY 6, 2022', 'JULY 6, 2022', 'JULY 6, 2022', 'JULY 6, 2022', 'JULY 4, 2022']\n"
          ]
        }
      ],
      "source": [
        "# Get date elements from HTML\n",
        "raw_dates = driver.find_elements(By.CLASS_NAME, \"ptam-block-post-grid-date\")\n",
        "\n",
        "# Copy elements into list\n",
        "dates = []\n",
        "for date in raw_dates: dates.append(date.text)\n",
        "\n",
        "print(dates)"
      ]
    },
    {
      "cell_type": "code",
      "execution_count": 12,
      "metadata": {
        "colab": {
          "base_uri": "https://localhost:8080/"
        },
        "id": "cyN2-8I-_fMo",
        "outputId": "1da06166-2c9c-4b5d-a436-50075bac7ce8"
      },
      "outputs": [
        {
          "name": "stdout",
          "output_type": "stream",
          "text": [
            "['https://butchixanh.com/the-witch-part-2-the-other-one/', 'https://butchixanh.com/diary-of-a-night-watchman/', 'https://butchixanh.com/cleaning-up/', 'https://butchixanh.com/alchemy-of-souls/', 'https://butchixanh.com/the-witch-is-alive/', 'https://butchixanh.com/the-present-is-beautiful/', 'https://butchixanh.com/why-her/', 'https://butchixanh.com/doctor-lawyer/', 'https://butchixanh.com/ultimate-weapon-alice/', 'https://butchixanh.com/yumis-cells-2/', 'https://butchixanh.com/anna/', 'https://butchixanh.com/jinxs-lover/', 'https://butchixanh.com/eve/', 'https://butchixanh.com/insider/', 'https://butchixanh.com/strange-lawyer-woo-young-woo/', 'https://butchixanh.com/dear-m/', 'https://butchixanh.com/nokdu-flower/', 'https://butchixanh.com/feel-good-to-die/', 'https://butchixanh.com/the-story-of-the-first-kings-four-gods/', 'https://butchixanh.com/link-eat-love-kill/']\n"
          ]
        }
      ],
      "source": [
        "# Get site url attributes from HTML\n",
        "raw_site_urls = driver.find_elements(By.XPATH, \"//div[@class='ptam-block-post-grid-image']/a\")\n",
        "\n",
        "# Copy elements into list\n",
        "site_urls = []\n",
        "for url in raw_site_urls: \n",
        "  site_urls.append(url.get_attribute('href'))\n",
        "\n",
        "print(site_urls)"
      ]
    },
    {
      "cell_type": "code",
      "execution_count": 13,
      "metadata": {
        "id": "sXHTGpupDZ9m"
      },
      "outputs": [],
      "source": [
        "while page < 69:\n",
        "  page += 1\n",
        "  new_url = 'https://butchixanh.com/page/' + str(page)\n",
        "  driver.get(new_url)\n",
        "\n",
        "  raw_titles = []\n",
        "  raw_dates = []\n",
        "  raw_site_urls = []\n",
        "\n",
        "  raw_titles = driver.find_elements(By.XPATH, \"(//div[@class='ptam-block-post-grid-text']/h6[@class='ptam-block-post-grid-title']/a[@class='local-link'])\")\n",
        "  for title in raw_titles:\n",
        "    movie_titles.append(title.text)\n",
        "    \n",
        "  raw_dates = driver.find_elements(By.CLASS_NAME, \"ptam-block-post-grid-date\")\n",
        "  for date in raw_dates:\n",
        "      dates.append(date.text)\n",
        "  \n",
        "  raw_site_urls = driver.find_elements(By.XPATH, \"//div[@class='ptam-block-post-grid-image']/a\")\n",
        "  for url in raw_site_urls:\n",
        "    site_urls.append(url.get_attribute('href'))\n",
        "\n",
        "\n"
      ]
    },
    {
      "cell_type": "code",
      "execution_count": 14,
      "metadata": {
        "colab": {
          "base_uri": "https://localhost:8080/"
        },
        "id": "fxMPAmptI__P",
        "outputId": "dda85eb0-9292-4737-81aa-aabd5d4485e7"
      },
      "outputs": [
        {
          "name": "stdout",
          "output_type": "stream",
          "text": [
            "                          Movie Titles        Post Date  \\\n",
            "0     The Witch: Part 2. The Other One     JULY 9, 2022   \n",
            "1            Diary Of A Night Watchman    JULY 11, 2022   \n",
            "2                          Cleaning Up    JULY 10, 2022   \n",
            "3                     Alchemy of Souls     JULY 9, 2022   \n",
            "4                   The Witch Is Alive     JULY 9, 2022   \n",
            "...                                ...              ...   \n",
            "1328     Love Affairs in the Afternoon  AUGUST 25, 2019   \n",
            "1329                The King’s Letters  AUGUST 21, 2019   \n",
            "1330      Designated Survivor: 60 Days  AUGUST 20, 2019   \n",
            "1331                          Parasite  AUGUST 20, 2019   \n",
            "1332                           Miracle     JULY 8, 0019   \n",
            "\n",
            "                                               Site URL  \n",
            "0     https://butchixanh.com/the-witch-part-2-the-ot...  \n",
            "1     https://butchixanh.com/diary-of-a-night-watchman/  \n",
            "2                   https://butchixanh.com/cleaning-up/  \n",
            "3              https://butchixanh.com/alchemy-of-souls/  \n",
            "4            https://butchixanh.com/the-witch-is-alive/  \n",
            "...                                                 ...  \n",
            "1328  https://butchixanh.com/love-affairs-in-the-aft...  \n",
            "1329          https://butchixanh.com/the-kings-letters/  \n",
            "1330  https://butchixanh.com/designated-survivor-60-...  \n",
            "1331                   https://butchixanh.com/parasite/  \n",
            "1332                  https://butchixanh.com/miracle-2/  \n",
            "\n",
            "[1333 rows x 3 columns]\n"
          ]
        }
      ],
      "source": [
        "data = list(zip(movie_titles, dates, site_urls))\n",
        "\n",
        "\n",
        "df = pd.DataFrame(data, columns=['Movie Titles', 'Post Date', 'Site URL'])\n",
        "print(df)"
      ]
    },
    {
      "cell_type": "code",
      "execution_count": 15,
      "metadata": {
        "id": "IhCUq80nJHG3"
      },
      "outputs": [],
      "source": [
        "df.to_csv('Kdrama.csv', index = False)"
      ]
    }
  ],
  "metadata": {
    "colab": {
      "name": "Untitled0.ipynb",
      "provenance": []
    },
    "kernelspec": {
      "display_name": "Python 3.10.5 64-bit",
      "language": "python",
      "name": "python3"
    },
    "language_info": {
      "name": "python",
      "version": "3.10.5"
    },
    "vscode": {
      "interpreter": {
        "hash": "aee8b7b246df8f9039afb4144a1f6fd8d2ca17a180786b69acc140d282b71a49"
      }
    }
  },
  "nbformat": 4,
  "nbformat_minor": 0
}
